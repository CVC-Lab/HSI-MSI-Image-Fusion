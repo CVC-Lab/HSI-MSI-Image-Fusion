{
 "cells": [
  {
   "cell_type": "code",
   "execution_count": 6,
   "metadata": {},
   "outputs": [
    {
     "name": "stderr",
     "output_type": "stream",
     "text": [
      "/data/shubham/tv_opt/lib/python3.8/site-packages/tqdm/auto.py:22: TqdmWarning: IProgress not found. Please update jupyter and ipywidgets. See https://ipywidgets.readthedocs.io/en/stable/user_install.html\n",
      "  from .autonotebook import tqdm as notebook_tqdm\n"
     ]
    }
   ],
   "source": [
    "import numpy as np\n",
    "import torch"
   ]
  },
  {
   "cell_type": "code",
   "execution_count": 4,
   "metadata": {},
   "outputs": [],
   "source": [
    "x_true, x_pred = np.eye(5, 5), np.eye(5, 5) + np.random.rand(5, 5)"
   ]
  },
  {
   "cell_type": "code",
   "execution_count": 8,
   "metadata": {},
   "outputs": [],
   "source": [
    "pred = torch.from_numpy(x_pred)[None, ...]\n",
    "tgt = torch.from_numpy(x_true)[None, ...]\n",
    "\n",
    "# num = pred.view(pred.shape[0], -1) * tgt.view(tgt.shape[0], -1)\n",
    "    # return torch.arccos((pred.view(pred.shape[0], -1) * tgt.view(tgt.shape[0], -1)).sum(-1)/\n",
    "    # (torch.linalg.norm(pred)*torch.linalg.norm(tgt))).mean()"
   ]
  },
  {
   "cell_type": "code",
   "execution_count": 13,
   "metadata": {},
   "outputs": [
    {
     "data": {
      "text/plain": [
       "torch.Size([])"
      ]
     },
     "execution_count": 13,
     "metadata": {},
     "output_type": "execute_result"
    }
   ],
   "source": [
    "def sam(pred, tgt):\n",
    "    pred = pred.view(pred.shape[0], -1)\n",
    "    tgt = tgt.view(tgt.shape[0], -1)\n",
    "    return torch.arccos((pred * tgt)/ torch.abs(pred)*torch.abs(tgt)).mean(-1).mean()"
   ]
  },
  {
   "cell_type": "code",
   "execution_count": 11,
   "metadata": {},
   "outputs": [
    {
     "data": {
      "text/plain": [
       "torch.Size([1])"
      ]
     },
     "execution_count": 11,
     "metadata": {},
     "output_type": "execute_result"
    }
   ],
   "source": [
    "(pred.view(pred.shape[0], -1) * tgt.view(tgt.shape[0], -1)).sum(-1).shape # (batch_size, 1)"
   ]
  },
  {
   "cell_type": "code",
   "execution_count": null,
   "metadata": {},
   "outputs": [],
   "source": [
    "\n",
    "num = 0\n",
    "sum_sam = 0\n",
    "x_true, x_pred = x_true.astype(np.float64), x_pred.astype(np.float64)\n",
    "for x in range(x_true.shape[0]):\n",
    "    for y in range(x_true.shape[1]):\n",
    "        tmp_pred = x_pred[x, y].ravel()\n",
    "        tmp_true = x_true[x, y].ravel()\n",
    "        if np.linalg.norm(tmp_true) != 0 and np.linalg.norm(tmp_pred) != 0:\n",
    "            sum_sam += np.arccos(\n",
    "                np.inner(tmp_pred, tmp_true) / (np.linalg.norm(tmp_true) * np.linalg.norm(tmp_pred)))\n",
    "            num += 1\n",
    "sam_deg = (sum_sam / num) * 180 / np.pi\n"
   ]
  }
 ],
 "metadata": {
  "kernelspec": {
   "display_name": "Python 3.8.13",
   "language": "python",
   "name": "python3"
  },
  "language_info": {
   "codemirror_mode": {
    "name": "ipython",
    "version": 3
   },
   "file_extension": ".py",
   "mimetype": "text/x-python",
   "name": "python",
   "nbconvert_exporter": "python",
   "pygments_lexer": "ipython3",
   "version": "3.8.13"
  },
  "orig_nbformat": 4,
  "vscode": {
   "interpreter": {
    "hash": "791ac5f91178d75982b260816770b05d3e12e3c8007ae99834eb6e20b19e6a8f"
   }
  }
 },
 "nbformat": 4,
 "nbformat_minor": 2
}
