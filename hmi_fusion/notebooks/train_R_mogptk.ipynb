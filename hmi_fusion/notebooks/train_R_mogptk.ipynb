{
 "cells": [
  {
   "cell_type": "code",
   "execution_count": 1,
   "metadata": {},
   "outputs": [],
   "source": [
    "import sys\n",
    "sys.path.append(\"../\")\n",
    "import torch\n",
    "from torch.optim import Adam\n",
    "import torch.nn.functional as F\n",
    "import mogptk\n",
    "torch.manual_seed(1)\n",
    "from datasets.cave_dataset import CAVEDataset\n",
    "from models.mosm.create_point_level_dataset import prepare_point_ds"
   ]
  },
  {
   "cell_type": "code",
   "execution_count": 3,
   "metadata": {},
   "outputs": [
    {
     "name": "stdout",
     "output_type": "stream",
     "text": [
      "torch.Size([6815744, 3]) torch.Size([6815744])\n",
      "torch.Size([6815744, 3]) torch.Size([6815744])\n",
      "torch.Size([6815744, 3]) torch.Size([6815744])\n",
      "torch.Size([6815744, 3]) torch.Size([6815744])\n",
      "torch.Size([6815744, 3]) torch.Size([6815744])\n",
      "torch.Size([6815744, 3]) torch.Size([6815744])\n",
      "torch.Size([6815744, 3]) torch.Size([6815744])\n",
      "torch.Size([6815744, 3]) torch.Size([6815744])\n",
      "torch.Size([6815744, 3]) torch.Size([6815744])\n",
      "torch.Size([6815744, 3]) torch.Size([6815744])\n",
      "torch.Size([6815744, 3]) torch.Size([6815744])\n",
      "torch.Size([6815744, 3]) torch.Size([6815744])\n",
      "torch.Size([6815744, 3]) torch.Size([6815744])\n",
      "torch.Size([6815744, 3]) torch.Size([6815744])\n",
      "torch.Size([6815744, 3]) torch.Size([6815744])\n",
      "torch.Size([6815744, 3]) torch.Size([6815744])\n",
      "torch.Size([6815744, 3]) torch.Size([6815744])\n",
      "torch.Size([6815744, 3]) torch.Size([6815744])\n",
      "torch.Size([6815744, 3]) torch.Size([6815744])\n",
      "torch.Size([6815744, 3]) torch.Size([6815744])\n",
      "torch.Size([6815744, 3]) torch.Size([6815744])\n",
      "torch.Size([6815744, 3]) torch.Size([6815744])\n",
      "torch.Size([6815744, 3]) torch.Size([6815744])\n",
      "torch.Size([6815744, 3]) torch.Size([6815744])\n",
      "torch.Size([6815744, 3]) torch.Size([6815744])\n",
      "torch.Size([6815744, 3]) torch.Size([6815744])\n",
      "torch.Size([6815744, 3]) torch.Size([6815744])\n",
      "torch.Size([6815744, 3]) torch.Size([6815744])\n",
      "torch.Size([6815744, 3]) torch.Size([6815744])\n",
      "torch.Size([6815744, 3]) torch.Size([6815744])\n",
      "torch.Size([6815744, 3]) torch.Size([6815744])\n",
      "torch.Size([1310720, 3]) torch.Size([1310720])\n",
      "torch.Size([1310720, 3]) torch.Size([1310720])\n",
      "torch.Size([1310720, 3]) torch.Size([1310720])\n",
      "torch.Size([1310720, 3]) torch.Size([1310720])\n",
      "torch.Size([1310720, 3]) torch.Size([1310720])\n",
      "torch.Size([1310720, 3]) torch.Size([1310720])\n",
      "torch.Size([1310720, 3]) torch.Size([1310720])\n",
      "torch.Size([1310720, 3]) torch.Size([1310720])\n",
      "torch.Size([1310720, 3]) torch.Size([1310720])\n",
      "torch.Size([1310720, 3]) torch.Size([1310720])\n",
      "torch.Size([1310720, 3]) torch.Size([1310720])\n",
      "torch.Size([1310720, 3]) torch.Size([1310720])\n",
      "torch.Size([1310720, 3]) torch.Size([1310720])\n",
      "torch.Size([1310720, 3]) torch.Size([1310720])\n",
      "torch.Size([1310720, 3]) torch.Size([1310720])\n",
      "torch.Size([1310720, 3]) torch.Size([1310720])\n",
      "torch.Size([1310720, 3]) torch.Size([1310720])\n",
      "torch.Size([1310720, 3]) torch.Size([1310720])\n",
      "torch.Size([1310720, 3]) torch.Size([1310720])\n",
      "torch.Size([1310720, 3]) torch.Size([1310720])\n",
      "torch.Size([1310720, 3]) torch.Size([1310720])\n",
      "torch.Size([1310720, 3]) torch.Size([1310720])\n",
      "torch.Size([1310720, 3]) torch.Size([1310720])\n",
      "torch.Size([1310720, 3]) torch.Size([1310720])\n",
      "torch.Size([1310720, 3]) torch.Size([1310720])\n",
      "torch.Size([1310720, 3]) torch.Size([1310720])\n",
      "torch.Size([1310720, 3]) torch.Size([1310720])\n",
      "torch.Size([1310720, 3]) torch.Size([1310720])\n",
      "torch.Size([1310720, 3]) torch.Size([1310720])\n",
      "torch.Size([1310720, 3]) torch.Size([1310720])\n",
      "torch.Size([1310720, 3]) torch.Size([1310720])\n"
     ]
    }
   ],
   "source": [
    "data_path = \"../datasets/data/CAVE\"\n",
    "dataset = CAVEDataset(data_path, None, mode=\"train\")\n",
    "test_dataset = CAVEDataset(data_path, None, mode=\"test\")\n",
    "train_ds = prepare_point_ds(dataset=dataset)\n",
    "test_ds = prepare_point_ds(dataset=test_dataset)"
   ]
  },
  {
   "cell_type": "code",
   "execution_count": 9,
   "metadata": {},
   "outputs": [
    {
     "ename": "RuntimeError",
     "evalue": "[enforce fail at alloc_cpu.cpp:75] err == 0. DefaultCPUAllocator: can't allocate memory: you tried to allocate 178570583955472384 bytes. Error code 12 (Cannot allocate memory)",
     "output_type": "error",
     "traceback": [
      "\u001b[0;31m---------------------------------------------------------------------------\u001b[0m",
      "\u001b[0;31mRuntimeError\u001b[0m                              Traceback (most recent call last)",
      "Cell \u001b[0;32mIn[9], line 6\u001b[0m\n\u001b[1;32m      4\u001b[0m mogptk\u001b[38;5;241m.\u001b[39mgpr\u001b[38;5;241m.\u001b[39muse_cpu(\u001b[38;5;241m0\u001b[39m)\n\u001b[1;32m      5\u001b[0m mogptk\u001b[38;5;241m.\u001b[39mgpr\u001b[38;5;241m.\u001b[39muse_single_precision()\n\u001b[0;32m----> 6\u001b[0m mosm \u001b[38;5;241m=\u001b[39m \u001b[43mmogptk\u001b[49m\u001b[38;5;241;43m.\u001b[39;49m\u001b[43mMOSM\u001b[49m\u001b[43m(\u001b[49m\u001b[43mtrain_ds\u001b[49m\u001b[43m[\u001b[49m\u001b[43m:\u001b[49m\u001b[38;5;241;43m10000\u001b[39;49m\u001b[43m]\u001b[49m\u001b[43m,\u001b[49m\u001b[43m \u001b[49m\u001b[43mQ\u001b[49m\u001b[38;5;241;43m=\u001b[39;49m\u001b[38;5;241;43m1\u001b[39;49m\u001b[43m)\u001b[49m\n\u001b[1;32m      7\u001b[0m mosm\u001b[38;5;241m.\u001b[39minit_parameters(method\u001b[38;5;241m=\u001b[39m\u001b[38;5;124m'\u001b[39m\u001b[38;5;124mLS\u001b[39m\u001b[38;5;124m'\u001b[39m)\n\u001b[1;32m      8\u001b[0m mosm\u001b[38;5;241m.\u001b[39mtrain(method\u001b[38;5;241m=\u001b[39mmethod, lr\u001b[38;5;241m=\u001b[39mlr, iters\u001b[38;5;241m=\u001b[39miters, verbose\u001b[38;5;241m=\u001b[39m\u001b[38;5;28;01mTrue\u001b[39;00m)\n",
      "File \u001b[0;32m/workspace/shubham/anaconda3/envs/cfps/lib/python3.10/site-packages/mogptk/models/mosm.py:57\u001b[0m, in \u001b[0;36mMOSM.__init__\u001b[0;34m(self, dataset, Q, inference, mean, name)\u001b[0m\n\u001b[1;32m     54\u001b[0m kernel\u001b[38;5;241m.\u001b[39mmean\u001b[38;5;241m.\u001b[39massign(torch\u001b[38;5;241m.\u001b[39mrand(output_dims,Q,input_dims))\n\u001b[1;32m     55\u001b[0m kernel\u001b[38;5;241m.\u001b[39mvariance\u001b[38;5;241m.\u001b[39massign(torch\u001b[38;5;241m.\u001b[39mrand(output_dims,Q,input_dims))\n\u001b[0;32m---> 57\u001b[0m \u001b[38;5;28;43msuper\u001b[39;49m\u001b[43m(\u001b[49m\u001b[43m)\u001b[49m\u001b[38;5;241;43m.\u001b[39;49m\u001b[38;5;21;43m__init__\u001b[39;49m\u001b[43m(\u001b[49m\u001b[43mdataset\u001b[49m\u001b[43m,\u001b[49m\u001b[43m \u001b[49m\u001b[43mkernel\u001b[49m\u001b[43m,\u001b[49m\u001b[43m \u001b[49m\u001b[43minference\u001b[49m\u001b[43m,\u001b[49m\u001b[43m \u001b[49m\u001b[43mmean\u001b[49m\u001b[43m,\u001b[49m\u001b[43m \u001b[49m\u001b[43mname\u001b[49m\u001b[43m)\u001b[49m\n\u001b[1;32m     58\u001b[0m \u001b[38;5;28mself\u001b[39m\u001b[38;5;241m.\u001b[39mQ \u001b[38;5;241m=\u001b[39m Q\n\u001b[1;32m     59\u001b[0m nyquist \u001b[38;5;241m=\u001b[39m np\u001b[38;5;241m.\u001b[39marray(\u001b[38;5;28mself\u001b[39m\u001b[38;5;241m.\u001b[39mdataset\u001b[38;5;241m.\u001b[39mget_nyquist_estimation())[:,\u001b[38;5;28;01mNone\u001b[39;00m,:]\u001b[38;5;241m.\u001b[39mrepeat(Q,axis\u001b[38;5;241m=\u001b[39m\u001b[38;5;241m1\u001b[39m)\n",
      "File \u001b[0;32m/workspace/shubham/anaconda3/envs/cfps/lib/python3.10/site-packages/mogptk/model.py:231\u001b[0m, in \u001b[0;36mModel.__init__\u001b[0;34m(self, dataset, kernel, inference, mean, name)\u001b[0m\n\u001b[1;32m    229\u001b[0m     y_err_upper \u001b[38;5;241m=\u001b[39m np\u001b[38;5;241m.\u001b[39mconcatenate(Y_err_upper, axis\u001b[38;5;241m=\u001b[39m\u001b[38;5;241m0\u001b[39m)\n\u001b[1;32m    230\u001b[0m     y_err \u001b[38;5;241m=\u001b[39m (y_err_upper\u001b[38;5;241m-\u001b[39my_err_lower)\u001b[38;5;241m/\u001b[39m\u001b[38;5;241m2.0\u001b[39m \u001b[38;5;66;03m# TODO: strictly incorrect: takes average error after transformation\u001b[39;00m\n\u001b[0;32m--> 231\u001b[0m \u001b[38;5;28mself\u001b[39m\u001b[38;5;241m.\u001b[39mgpr \u001b[38;5;241m=\u001b[39m \u001b[43minference\u001b[49m\u001b[38;5;241;43m.\u001b[39;49m\u001b[43m_build\u001b[49m\u001b[43m(\u001b[49m\u001b[43mkernel\u001b[49m\u001b[43m,\u001b[49m\u001b[43m \u001b[49m\u001b[43mx\u001b[49m\u001b[43m,\u001b[49m\u001b[43m \u001b[49m\u001b[43my\u001b[49m\u001b[43m,\u001b[49m\u001b[43m \u001b[49m\u001b[43my_err\u001b[49m\u001b[43m,\u001b[49m\u001b[43m \u001b[49m\u001b[43mmean\u001b[49m\u001b[43m)\u001b[49m\n\u001b[1;32m    233\u001b[0m \u001b[38;5;28mself\u001b[39m\u001b[38;5;241m.\u001b[39miters \u001b[38;5;241m=\u001b[39m \u001b[38;5;241m0\u001b[39m\n\u001b[1;32m    234\u001b[0m \u001b[38;5;28mself\u001b[39m\u001b[38;5;241m.\u001b[39mtimes \u001b[38;5;241m=\u001b[39m np\u001b[38;5;241m.\u001b[39mzeros(\u001b[38;5;241m0\u001b[39m)\n",
      "File \u001b[0;32m/workspace/shubham/anaconda3/envs/cfps/lib/python3.10/site-packages/mogptk/model.py:99\u001b[0m, in \u001b[0;36mExact._build\u001b[0;34m(self, kernel, x, y, y_err, mean)\u001b[0m\n\u001b[1;32m     97\u001b[0m \u001b[38;5;28;01mif\u001b[39;00m data_variance \u001b[38;5;129;01mis\u001b[39;00m \u001b[38;5;28;01mNone\u001b[39;00m \u001b[38;5;129;01mand\u001b[39;00m y_err \u001b[38;5;129;01mis\u001b[39;00m \u001b[38;5;129;01mnot\u001b[39;00m \u001b[38;5;28;01mNone\u001b[39;00m:\n\u001b[1;32m     98\u001b[0m     data_variance \u001b[38;5;241m=\u001b[39m y_err\u001b[38;5;241m*\u001b[39m\u001b[38;5;241m*\u001b[39m\u001b[38;5;241m2\u001b[39m\n\u001b[0;32m---> 99\u001b[0m model \u001b[38;5;241m=\u001b[39m \u001b[43mgpr\u001b[49m\u001b[38;5;241;43m.\u001b[39;49m\u001b[43mExact\u001b[49m\u001b[43m(\u001b[49m\u001b[43mkernel\u001b[49m\u001b[43m,\u001b[49m\u001b[43m \u001b[49m\u001b[43mx\u001b[49m\u001b[43m,\u001b[49m\u001b[43m \u001b[49m\u001b[43my\u001b[49m\u001b[43m,\u001b[49m\u001b[43m \u001b[49m\u001b[43mvariance\u001b[49m\u001b[38;5;241;43m=\u001b[39;49m\u001b[43mvariance\u001b[49m\u001b[43m,\u001b[49m\u001b[43m \u001b[49m\u001b[43mdata_variance\u001b[49m\u001b[38;5;241;43m=\u001b[39;49m\u001b[43mdata_variance\u001b[49m\u001b[43m,\u001b[49m\u001b[43m \u001b[49m\u001b[43mjitter\u001b[49m\u001b[38;5;241;43m=\u001b[39;49m\u001b[38;5;28;43mself\u001b[39;49m\u001b[38;5;241;43m.\u001b[39;49m\u001b[43mjitter\u001b[49m\u001b[43m,\u001b[49m\u001b[43m \u001b[49m\u001b[43mmean\u001b[49m\u001b[38;5;241;43m=\u001b[39;49m\u001b[43mmean\u001b[49m\u001b[43m)\u001b[49m\n\u001b[1;32m    100\u001b[0m \u001b[38;5;28;01mreturn\u001b[39;00m model\n",
      "File \u001b[0;32m/workspace/shubham/anaconda3/envs/cfps/lib/python3.10/site-packages/mogptk/gpr/model.py:434\u001b[0m, in \u001b[0;36mExact.__init__\u001b[0;34m(self, kernel, X, y, variance, data_variance, jitter, mean)\u001b[0m\n\u001b[1;32m    430\u001b[0m     \u001b[38;5;28;01mraise\u001b[39;00m \u001b[38;5;167;01mValueError\u001b[39;00m(\u001b[38;5;124m\"\u001b[39m\u001b[38;5;124mvariance must be float or have shape (channels,)\u001b[39m\u001b[38;5;124m\"\u001b[39m)\n\u001b[1;32m    432\u001b[0m \u001b[38;5;28msuper\u001b[39m()\u001b[38;5;241m.\u001b[39m\u001b[38;5;21m__init__\u001b[39m(kernel, X, y, GaussianLikelihood(torch\u001b[38;5;241m.\u001b[39msqrt(variance)), jitter, mean)\n\u001b[0;32m--> 434\u001b[0m \u001b[38;5;28mself\u001b[39m\u001b[38;5;241m.\u001b[39meye \u001b[38;5;241m=\u001b[39m \u001b[43mtorch\u001b[49m\u001b[38;5;241;43m.\u001b[39;49m\u001b[43meye\u001b[49m\u001b[43m(\u001b[49m\u001b[38;5;28;43mself\u001b[39;49m\u001b[38;5;241;43m.\u001b[39;49m\u001b[43mX\u001b[49m\u001b[38;5;241;43m.\u001b[39;49m\u001b[43mshape\u001b[49m\u001b[43m[\u001b[49m\u001b[38;5;241;43m0\u001b[39;49m\u001b[43m]\u001b[49m\u001b[43m,\u001b[49m\u001b[43m \u001b[49m\u001b[43mdevice\u001b[49m\u001b[38;5;241;43m=\u001b[39;49m\u001b[43mconfig\u001b[49m\u001b[38;5;241;43m.\u001b[39;49m\u001b[43mdevice\u001b[49m\u001b[43m,\u001b[49m\u001b[43m \u001b[49m\u001b[43mdtype\u001b[49m\u001b[38;5;241;43m=\u001b[39;49m\u001b[43mconfig\u001b[49m\u001b[38;5;241;43m.\u001b[39;49m\u001b[43mdtype\u001b[49m\u001b[43m)\u001b[49m\n\u001b[1;32m    435\u001b[0m \u001b[38;5;28mself\u001b[39m\u001b[38;5;241m.\u001b[39mlog_marginal_likelihood_constant \u001b[38;5;241m=\u001b[39m \u001b[38;5;241m0.5\u001b[39m\u001b[38;5;241m*\u001b[39m\u001b[38;5;28mself\u001b[39m\u001b[38;5;241m.\u001b[39mX\u001b[38;5;241m.\u001b[39mshape[\u001b[38;5;241m0\u001b[39m]\u001b[38;5;241m*\u001b[39mnp\u001b[38;5;241m.\u001b[39mlog(\u001b[38;5;241m2.0\u001b[39m\u001b[38;5;241m*\u001b[39mnp\u001b[38;5;241m.\u001b[39mpi)\n",
      "\u001b[0;31mRuntimeError\u001b[0m: [enforce fail at alloc_cpu.cpp:75] err == 0. DefaultCPUAllocator: can't allocate memory: you tried to allocate 178570583955472384 bytes. Error code 12 (Cannot allocate memory)"
     ]
    }
   ],
   "source": [
    "method = 'Adam'\n",
    "lr = 0.02\n",
    "iters = 1500\n",
    "mogptk.gpr.use_cpu(0)\n",
    "mogptk.gpr.use_single_precision()\n",
    "mosm = mogptk.MOSM(train_ds[:10000], Q=1)\n",
    "mosm.init_parameters(method='LS')\n",
    "mosm.train(method=method, lr=lr, iters=iters, verbose=True)\n",
    "mosm.print_parameters()\n",
    "mosm.plot_prediction(transformed=True)"
   ]
  }
 ],
 "metadata": {
  "kernelspec": {
   "display_name": "cfps",
   "language": "python",
   "name": "python3"
  },
  "language_info": {
   "codemirror_mode": {
    "name": "ipython",
    "version": 3
   },
   "file_extension": ".py",
   "mimetype": "text/x-python",
   "name": "python",
   "nbconvert_exporter": "python",
   "pygments_lexer": "ipython3",
   "version": "3.10.13"
  }
 },
 "nbformat": 4,
 "nbformat_minor": 2
}
