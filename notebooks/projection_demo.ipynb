{
 "cells": [
  {
   "cell_type": "code",
   "execution_count": null,
   "metadata": {},
   "outputs": [],
   "source": [
    "import sys\n",
    "sys.path.append(\"../\")"
   ]
  },
  {
   "cell_type": "code",
   "execution_count": null,
   "metadata": {},
   "outputs": [],
   "source": [
    "from torch.optim import Adam\n",
    "import cv2"
   ]
  },
  {
   "cell_type": "code",
   "execution_count": null,
   "metadata": {},
   "outputs": [],
   "source": [
    "import torch\n",
    "import torch.nn.functional as F\n",
    "from colour.plotting import *\n",
    "import numpy as np\n",
    "import matplotlib.pyplot as plt\n",
    "from datasets.cave_dataset import CAVEDataset\n"
   ]
  },
  {
   "cell_type": "code",
   "execution_count": null,
   "metadata": {},
   "outputs": [],
   "source": [
    "from datasets.cave_dataset import R"
   ]
  },
  {
   "cell_type": "code",
   "execution_count": null,
   "metadata": {},
   "outputs": [],
   "source": [
    "dataset = CAVEDataset(\"../datasets/data/CAVE\", None, mode=\"train\")"
   ]
  },
  {
   "cell_type": "code",
   "execution_count": null,
   "metadata": {},
   "outputs": [],
   "source": [
    "model = torch.nn.Linear(3, 31, bias=False)\n",
    "# model.weight = torch.nn.Parameter(R.T)\n",
    "optimizer = Adam(model.parameters(), lr=1e-3)\n",
    "model.train()\n",
    "mse = torch.nn.MSELoss()\n"
   ]
  },
  {
   "cell_type": "code",
   "execution_count": null,
   "metadata": {},
   "outputs": [],
   "source": [
    "c, x_old, y, z, x_gt, lz, idx = dataset[0]"
   ]
  },
  {
   "cell_type": "code",
   "execution_count": null,
   "metadata": {},
   "outputs": [],
   "source": [
    "R.shape"
   ]
  },
  {
   "cell_type": "code",
   "execution_count": null,
   "metadata": {},
   "outputs": [],
   "source": [
    "n_epochs = 50"
   ]
  },
  {
   "cell_type": "code",
   "execution_count": null,
   "metadata": {},
   "outputs": [],
   "source": [
    "model_path = \"../artifacts/R.pt\""
   ]
  },
  {
   "cell_type": "code",
   "execution_count": null,
   "metadata": {},
   "outputs": [],
   "source": [
    "baseline_total = 0\n",
    "# lets check mse loss for R provided by other vendors\n",
    "for items in dataset:\n",
    "    c, x_old, y, z, x_gt, lz, idx = items\n",
    "    z_ipt = z.numpy()\n",
    "    Zd = torch.zeros(z.shape[0], y.shape[1], y.shape[2])\n",
    "    C, N1, N2 = Zd.shape\n",
    "    for c in range(Zd.shape[0]):\n",
    "        Zd[c, :, :] = torch.FloatTensor(cv2.resize(z_ipt[c, :, :], (N1, N2), interpolation=cv2.INTER_CUBIC))\n",
    "    \n",
    "    y_pred = (R.T @ Zd.reshape(C, -1)).reshape(y.shape[0], N1, N2)\n",
    "    loss = mse(y_pred, y)\n",
    "    baseline_total += loss.item()\n",
    "\n",
    "print(baseline_total/len(dataset))"
   ]
  },
  {
   "cell_type": "code",
   "execution_count": null,
   "metadata": {},
   "outputs": [],
   "source": [
    "print(baseline_total/len(dataset))"
   ]
  },
  {
   "cell_type": "code",
   "execution_count": null,
   "metadata": {},
   "outputs": [],
   "source": [
    "model.train()\n",
    "best_mse_loss = baseline_total/len(dataset)\n",
    "for epoch in range(n_epochs):\n",
    "    total_mse_loss = 0\n",
    "    for items in dataset:\n",
    "        optimizer.zero_grad()\n",
    "        c, x_old, y, z, x_gt, lz, idx = items\n",
    "        z_ipt = z.numpy()\n",
    "        Zd = torch.zeros(z.shape[0], y.shape[1], y.shape[2])\n",
    "        C, N1, N2 = Zd.shape\n",
    "        for c in range(Zd.shape[0]):\n",
    "            Zd[c, :, :] = torch.FloatTensor(cv2.resize(z_ipt[c, :, :], (N1, N2), interpolation=cv2.INTER_CUBIC))\n",
    "        Zd = Zd.permute(1, 2, 0).reshape(-1, C)[None, ...]\n",
    "        y_pred = model(Zd)\n",
    "        # y_pred = (newR @ Zd.reshape(C, -1)).reshape(*y.shape)\n",
    "        y_pred = y_pred.transpose(1, 2).reshape(1, y.shape[0], N1, N2)\n",
    "        loss = mse(y_pred, y[None, ...])\n",
    "        loss.backward()\n",
    "        optimizer.step()\n",
    "        total_mse_loss += loss.item()\n",
    "\n",
    "    print(f\"epoch {epoch} mse: {total_mse_loss/len(dataset)}\")\n",
    "    # if total_mse_loss/len(dataset) < best_mse_loss:\n",
    "    #     best_mse_loss =  total_mse_loss/len(dataset)\n",
    "    #     print(\"saving ...\")\n",
    "    #     torch.save(model.state_dict(), model_path)"
   ]
  },
  {
   "cell_type": "code",
   "execution_count": null,
   "metadata": {},
   "outputs": [],
   "source": [
    "torch.save(model.state_dict(), model_path)"
   ]
  },
  {
   "cell_type": "code",
   "execution_count": null,
   "metadata": {},
   "outputs": [],
   "source": [
    "# z should be converted to have 31 bands\n",
    "y[:,0,0]"
   ]
  },
  {
   "cell_type": "code",
   "execution_count": null,
   "metadata": {},
   "outputs": [],
   "source": [
    "from models.metrics import (\n",
    "    compare_mpsnr,\n",
    "    compare_mssim,\n",
    "    find_rmse,\n",
    "    # compare_sam,\n",
    "    compare_ergas\n",
    ")\n",
    "from torchmetrics import SpectralAngleMapper\n",
    "from torchmetrics import ErrorRelativeGlobalDimensionlessSynthesis as ERGAS\n",
    "sam = SpectralAngleMapper()\n",
    "ergas = ERGAS(ratio=1/8)\n"
   ]
  },
  {
   "cell_type": "code",
   "execution_count": null,
   "metadata": {},
   "outputs": [],
   "source": [
    "model.eval()"
   ]
  },
  {
   "cell_type": "code",
   "execution_count": null,
   "metadata": {},
   "outputs": [],
   "source": [
    "R = model.weight"
   ]
  },
  {
   "cell_type": "code",
   "execution_count": null,
   "metadata": {},
   "outputs": [],
   "source": [
    "R.shape"
   ]
  },
  {
   "cell_type": "code",
   "execution_count": null,
   "metadata": {},
   "outputs": [],
   "source": [
    "R @z.reshape(z)"
   ]
  },
  {
   "cell_type": "code",
   "execution_count": null,
   "metadata": {},
   "outputs": [],
   "source": [
    "test_dataset = CAVEDataset(\"../datasets/data/CAVE\", None, mode=\"test\")\n",
    "test_loader = torch.utils.data.DataLoader(test_dataset,\n",
    "                                        shuffle=False, batch_size=1)"
   ]
  },
  {
   "cell_type": "code",
   "execution_count": null,
   "metadata": {},
   "outputs": [],
   "source": [
    "sf = 8"
   ]
  },
  {
   "cell_type": "code",
   "execution_count": null,
   "metadata": {},
   "outputs": [],
   "source": [
    "# lets check all the metrics from the learned R\n",
    "\n",
    "\n",
    "total_psnr, total_ssim, total_rmse, total_sam, total_ergas =0,0,0,0,0\n",
    "with torch.no_grad():\n",
    "    for items in test_dataset:\n",
    "        c, x_old, y, z, x, lz, idx = items\n",
    "\n",
    "        zc, N1, N2 = z.shape \n",
    "        x2 = (R @ z.reshape(zc, -1)).reshape(y.shape[0], N1, N2)\n",
    "    \n",
    "        x = x.squeeze()\n",
    "        x2 = x2.squeeze()\n",
    "        x = x.permute(1, 2, 0).detach().cpu().numpy()\n",
    "        x2 = x2.permute(1, 2, 0).detach().cpu().numpy()\n",
    "        \n",
    "        total_ssim += compare_mssim(x, x2)\n",
    "        rmse,  mse, rmse_per_band = find_rmse(x, x2)\n",
    "        total_rmse += rmse\n",
    "        total_psnr += compare_mpsnr(x, x2, mse)\n",
    "        s\n",
    "        total_ergas += compare_ergas(x, x2, sf, rmse_per_band)\n",
    "        # total_sam += compare_sam(x, x2)\n",
    "        # total_ergas += ergas(torch.from_numpy(x).permute(2, 0, 1)[None, ...], \n",
    "        #                     torch.from_numpy(x2).permute(2, 0, 1)[None, ...])\n",
    "        # total_ergas += compare_ergas(x, x2,1/sf, rmse_per_band)\n",
    "\n",
    "opt = f\"\"\"## Metric scores:\n",
    "psnr:{total_psnr/len(test_loader)},\n",
    "ssim:{total_ssim/len(test_loader)},\n",
    "rmse:{total_rmse/len(test_loader)},\n",
    "sam:{total_sam/len(test_loader)},\n",
    "ergas:{total_ergas/len(test_loader)},\n",
    "\"\"\"\n",
    "print(opt)"
   ]
  },
  {
   "cell_type": "code",
   "execution_count": null,
   "metadata": {},
   "outputs": [],
   "source": [
    "z.shape"
   ]
  },
  {
   "cell_type": "code",
   "execution_count": null,
   "metadata": {},
   "outputs": [],
   "source": [
    "z_ = R.T @ (z.reshape(3, -1)/255)"
   ]
  },
  {
   "cell_type": "code",
   "execution_count": null,
   "metadata": {},
   "outputs": [],
   "source": [
    "z_.min(), z_.max()"
   ]
  },
  {
   "cell_type": "code",
   "execution_count": null,
   "metadata": {},
   "outputs": [],
   "source": [
    "zm = z.reshape(3, -1)\n",
    "z_ = R.T @ ((zm - zm.min(-1).values[:, None] / zm.max(-1).values[:, None]))\n",
    "z_.min(), z_.max()"
   ]
  },
  {
   "cell_type": "code",
   "execution_count": null,
   "metadata": {},
   "outputs": [],
   "source": [
    "z_ = R.T @ (z.reshape(3, -1)/z.reshape(3, -1).max(1).values[:, None])\n",
    "z_.min(), z_.max()"
   ]
  },
  {
   "cell_type": "code",
   "execution_count": null,
   "metadata": {},
   "outputs": [],
   "source": [
    "y_ = R @ (y.reshape(31, -1)/y.reshape(31, -1).max(1).values[:, None])"
   ]
  },
  {
   "cell_type": "code",
   "execution_count": null,
   "metadata": {},
   "outputs": [],
   "source": [
    "\n",
    "y_.min(), y_.max()"
   ]
  },
  {
   "cell_type": "code",
   "execution_count": null,
   "metadata": {},
   "outputs": [],
   "source": [
    "y_.min(), y_.max()"
   ]
  },
  {
   "cell_type": "code",
   "execution_count": null,
   "metadata": {},
   "outputs": [],
   "source": [
    "z_.min(), z_.max()"
   ]
  },
  {
   "cell_type": "code",
   "execution_count": null,
   "metadata": {},
   "outputs": [],
   "source": [
    "# downsample 512, 512, 3 to 64, 64, 3\n",
    "\n",
    "# def spectral_response_to_band(y, z):\n",
    "    "
   ]
  },
  {
   "cell_type": "code",
   "execution_count": null,
   "metadata": {},
   "outputs": [],
   "source": [
    "# import pyspectral\n",
    "# pyspectral.rsr_reader.RelativeSpectralResponse() # wavelength to band number calculation"
   ]
  },
  {
   "cell_type": "code",
   "execution_count": null,
   "metadata": {},
   "outputs": [],
   "source": [
    "# we need to have dowsampling loss better than L2(downsample(z, bicubic))\n",
    "\n"
   ]
  }
 ],
 "metadata": {
  "kernelspec": {
   "display_name": "Python 3.8.13",
   "language": "python",
   "name": "python3"
  },
  "language_info": {
   "codemirror_mode": {
    "name": "ipython",
    "version": 3
   },
   "file_extension": ".py",
   "mimetype": "text/x-python",
   "name": "python",
   "nbconvert_exporter": "python",
   "pygments_lexer": "ipython3",
   "version": "3.8.13"
  },
  "orig_nbformat": 4,
  "vscode": {
   "interpreter": {
    "hash": "791ac5f91178d75982b260816770b05d3e12e3c8007ae99834eb6e20b19e6a8f"
   }
  }
 },
 "nbformat": 4,
 "nbformat_minor": 2
}
