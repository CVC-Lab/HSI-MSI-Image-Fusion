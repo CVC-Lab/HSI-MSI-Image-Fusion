{
 "cells": [
  {
   "cell_type": "code",
   "execution_count": 1,
   "metadata": {},
   "outputs": [],
   "source": [
    "%load_ext autoreload"
   ]
  },
  {
   "cell_type": "code",
   "execution_count": 2,
   "metadata": {},
   "outputs": [],
   "source": [
    "%autoreload 2"
   ]
  },
  {
   "cell_type": "code",
   "execution_count": 3,
   "metadata": {},
   "outputs": [],
   "source": [
    "import matplotlib.pyplot as plt\n",
    "import sys\n",
    "import warnings\n",
    "\n",
    "warnings.filterwarnings('ignore')\n",
    "\n",
    "from BGLRF import BGLRF_main\n",
    "from Generation import generation\n",
    "from denoising import denoising\n",
    "from metrics import quality_assessment"
   ]
  },
  {
   "cell_type": "code",
   "execution_count": 4,
   "metadata": {},
   "outputs": [
    {
     "name": "stdout",
     "output_type": "stream",
     "text": [
      "HELLO\n"
     ]
    }
   ],
   "source": [
    "sri, hsi, msi = generation()"
   ]
  },
  {
   "cell_type": "code",
   "execution_count": 5,
   "metadata": {},
   "outputs": [
    {
     "name": "stdout",
     "output_type": "stream",
     "text": [
      "(144, 144, 200) (36, 36, 200) (144, 144, 6)\n"
     ]
    }
   ],
   "source": [
    "print(sri.shape, hsi.shape, msi.shape)"
   ]
  },
  {
   "cell_type": "code",
   "execution_count": 6,
   "metadata": {},
   "outputs": [
    {
     "name": "stdout",
     "output_type": "stream",
     "text": [
      "ADMM_K [1.]\n",
      "ADMM_K [0.23680268]\n",
      "ADMM_K [0.19415624]\n",
      "ADMM_K [0.09704288]\n",
      "ADMM_K [0.05353235]\n",
      "ADMM_K [0.0419891]\n",
      "ADMM_K [0.04529768]\n",
      "ADMM_K [0.04177076]\n",
      "ADMM_K [0.03864747]\n",
      "ADMM_K [0.03289564]\n",
      "ADMM_K [0.03051352]\n",
      "ADMM_K [0.02572736]\n",
      "ADMM_K [0.02257754]\n",
      "ADMM_K [0.02114774]\n",
      "ADMM_K [0.01982344]\n",
      "ADMM_K [0.01854267]\n",
      "ADMM_K [0.01697813]\n",
      "ADMM_K [0.01541906]\n",
      "ADMM_K [0.0146347]\n",
      "ADMM_K [0.0139527]\n",
      "ADMM_K [0.01378733]\n",
      "ADMM_K [0.0132767]\n",
      "ADMM_K [0.0129103]\n",
      "ADMM_K [0.01248186]\n",
      "ADMM_K [0.01204218]\n",
      "ADMM_K [0.0117005]\n",
      "ADMM_K [0.01139109]\n",
      "ADMM_K [0.01107829]\n",
      "ADMM_K [0.01088375]\n",
      "ADMM_K [0.01055776]\n",
      "ADMM_K [0.01036889]\n",
      "ADMM_K [0.01005732]\n",
      "ADMM_K [0.00985155]\n",
      "ADMM_K is successful in 32 iterations \n",
      "\n",
      "CG_X is successful in 308 iterations \n",
      "\n",
      "GLRF - iteration 0: \n",
      "\n",
      "0.04985246825145848\n"
     ]
    }
   ],
   "source": [
    "denoised_hsi,SNR_dB = denoising(hsi)\n",
    "SRI_fused,K_est = BGLRF_main(denoised_hsi,msi,10,10,6)"
   ]
  },
  {
   "cell_type": "code",
   "execution_count": 7,
   "metadata": {},
   "outputs": [
    {
     "name": "stdout",
     "output_type": "stream",
     "text": [
      "(144, 144, 200)\n"
     ]
    }
   ],
   "source": [
    "SRI_fused = SRI_fused.reshape(sri.shape)\n",
    "print(SRI_fused.shape)"
   ]
  },
  {
   "cell_type": "code",
   "execution_count": 11,
   "metadata": {},
   "outputs": [
    {
     "name": "stdout",
     "output_type": "stream",
     "text": [
      "psnr 80.33275430611424\n",
      "rmse 0.050851287541335596\n",
      "ergas 3.3211794003233965\n",
      "sam 6.439046170985616\n",
      "uiqi 0.0\n",
      "ssim 0.9997525803207303\n",
      "DD 0.029346550893899433\n",
      "CCS 0.8966493233063991\n"
     ]
    }
   ],
   "source": [
    "# evaluate the fused result\n",
    "#psnr,rmse,ergas,sam,uiqi,ssim,DD,CCS = quality_assessment(sri,SRI_fused,0,1/4)\n",
    "psnr,rmse,ergas,sam,uiqi,ssim,DD,CCS = quality_assessment(sri,SRI_fused,0,1/4)\n",
    "print(\"psnr\", psnr)\n",
    "print(\"rmse\", rmse)\n",
    "print(\"ergas\", ergas)\n",
    "print(\"sam\", sam)\n",
    "print(\"uiqi\", uiqi)\n",
    "print(\"ssim\", ssim)\n",
    "print(\"DD\", DD)\n",
    "print(\"CCS\", CCS)"
   ]
  },
  {
   "cell_type": "code",
   "execution_count": null,
   "metadata": {},
   "outputs": [],
   "source": [
    "plt.imshow(sri[:,:,7].T)\n",
    "plt.show()"
   ]
  },
  {
   "cell_type": "code",
   "execution_count": null,
   "metadata": {},
   "outputs": [],
   "source": [
    "plt.imshow(SRI_fused[:,:,7].T)\n",
    "plt.show()"
   ]
  }
 ],
 "metadata": {
  "kernelspec": {
   "display_name": "Python 3.8.13 ('base')",
   "language": "python",
   "name": "python3"
  },
  "language_info": {
   "codemirror_mode": {
    "name": "ipython",
    "version": 3
   },
   "file_extension": ".py",
   "mimetype": "text/x-python",
   "name": "python",
   "nbconvert_exporter": "python",
   "pygments_lexer": "ipython3",
   "version": "3.12.3"
  },
  "orig_nbformat": 4,
  "vscode": {
   "interpreter": {
    "hash": "6eb94031926aa2cdb87e0870b3dc6626e89cd2ea57e62898b7b6ca21075da6b8"
   }
  }
 },
 "nbformat": 4,
 "nbformat_minor": 2
}
