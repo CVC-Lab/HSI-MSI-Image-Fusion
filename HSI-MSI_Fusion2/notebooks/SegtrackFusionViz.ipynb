{
 "cells": [
  {
   "cell_type": "code",
   "execution_count": 1,
   "metadata": {},
   "outputs": [],
   "source": [
    "\n",
    "import sys\n",
    "import warnings\n",
    "import matplotlib.pyplot as plt\n",
    "warnings.filterwarnings('ignore')\n",
    "sys.path.append(\"../\")"
   ]
  },
  {
   "cell_type": "code",
   "execution_count": 2,
   "metadata": {},
   "outputs": [],
   "source": [
    "from hip.denoise.denoising import denoising\n",
    "from hip.fusion.bglrf_main import BGLRF_main\n",
    "from hip.simulation.generation import generate_indian_pines_data\n",
    "from hip.quality_metrics.quality_assessment import quality_assessment"
   ]
  },
  {
   "cell_type": "code",
   "execution_count": 3,
   "metadata": {},
   "outputs": [],
   "source": [
    "SRI, hsi,msi = generate_indian_pines_data(dataset_dir=\"../datasets\")"
   ]
  },
  {
   "cell_type": "code",
   "execution_count": 4,
   "metadata": {},
   "outputs": [
    {
     "name": "stdout",
     "output_type": "stream",
     "text": [
      "ADMM_K is successful in 16 iterations \n",
      "\n",
      "CG_X is successful in 316 iterations \n",
      "\n",
      "GLRF - iteration 0: \n",
      "\n",
      "0.05274447639781424\n",
      "ADMM_K is successful in 13 iterations \n",
      "\n"
     ]
    },
    {
     "ename": "KeyboardInterrupt",
     "evalue": "",
     "output_type": "error",
     "traceback": [
      "\u001b[0;31m---------------------------------------------------------------------------\u001b[0m",
      "\u001b[0;31mKeyboardInterrupt\u001b[0m                         Traceback (most recent call last)",
      "\u001b[1;32m/Users/shubham1.bhardwaj/Documents/masters_coursework/3D_Prof_Chandrajit/HSI-MSI-Image-Fusion/HSI-MSI_Fusion2/notebooks/SegtrackFusionViz.ipynb Cell 4\u001b[0m in \u001b[0;36m<cell line: 2>\u001b[0;34m()\u001b[0m\n\u001b[1;32m      <a href='vscode-notebook-cell:/Users/shubham1.bhardwaj/Documents/masters_coursework/3D_Prof_Chandrajit/HSI-MSI-Image-Fusion/HSI-MSI_Fusion2/notebooks/SegtrackFusionViz.ipynb#W5sZmlsZQ%3D%3D?line=0'>1</a>\u001b[0m denoised_hsi,SNR_dB \u001b[39m=\u001b[39m denoising(hsi)\n\u001b[0;32m----> <a href='vscode-notebook-cell:/Users/shubham1.bhardwaj/Documents/masters_coursework/3D_Prof_Chandrajit/HSI-MSI-Image-Fusion/HSI-MSI_Fusion2/notebooks/SegtrackFusionViz.ipynb#W5sZmlsZQ%3D%3D?line=1'>2</a>\u001b[0m SRI_fused,K_est \u001b[39m=\u001b[39m BGLRF_main(denoised_hsi,msi,\u001b[39m10\u001b[39;49m,\u001b[39m10\u001b[39;49m,\u001b[39m6\u001b[39;49m)\n",
      "File \u001b[0;32m~/Documents/masters_coursework/3D_Prof_Chandrajit/HSI-MSI-Image-Fusion/HSI-MSI_Fusion2/notebooks/../hip/fusion/bglrf_main.py:189\u001b[0m, in \u001b[0;36mBGLRF_main\u001b[0;34m(Y, Z, alpha, beta, radius)\u001b[0m\n\u001b[1;32m    186\u001b[0m rhs \u001b[39m=\u001b[39m rhs\u001b[39m+\u001b[39mtau\u001b[39m*\u001b[39mX\n\u001b[1;32m    188\u001b[0m X_pre \u001b[39m=\u001b[39m X\u001b[39m.\u001b[39mcopy()\n\u001b[0;32m--> 189\u001b[0m X \u001b[39m=\u001b[39m CG_X(rhs,X,Fk,L,ind2,N1,N2,N3,tau)\n\u001b[1;32m    191\u001b[0m \u001b[39m# print(\"BGLRF_3 output\")\u001b[39;00m\n\u001b[1;32m    192\u001b[0m \u001b[39m# plt.imshow(X.reshape(N1,N2,N3))\u001b[39;00m\n\u001b[1;32m    193\u001b[0m \u001b[39m# plt.show()\u001b[39;00m\n\u001b[1;32m    195\u001b[0m err[\u001b[39miter\u001b[39m,\u001b[39m0\u001b[39m] \u001b[39m=\u001b[39m np\u001b[39m.\u001b[39mlinalg\u001b[39m.\u001b[39mnorm(K\u001b[39m-\u001b[39mK_pre,\u001b[39m'\u001b[39m\u001b[39mfro\u001b[39m\u001b[39m'\u001b[39m)\u001b[39m/\u001b[39mnp\u001b[39m.\u001b[39mlinalg\u001b[39m.\u001b[39mnorm(K,\u001b[39m'\u001b[39m\u001b[39mfro\u001b[39m\u001b[39m'\u001b[39m)\n",
      "File \u001b[0;32m~/Documents/masters_coursework/3D_Prof_Chandrajit/HSI-MSI-Image-Fusion/HSI-MSI_Fusion2/notebooks/../hip/fusion/CG_X.py:15\u001b[0m, in \u001b[0;36mCG_X\u001b[0;34m(H, X0, Fk, L, IND, N1, N2, N3, tau)\u001b[0m\n\u001b[1;32m     11\u001b[0m p0 \u001b[39m=\u001b[39m r0\u001b[39m.\u001b[39mcopy()\n\u001b[1;32m     13\u001b[0m \u001b[39mfor\u001b[39;00m i \u001b[39min\u001b[39;00m \u001b[39mrange\u001b[39m(\u001b[39m999\u001b[39m):\n\u001b[0;32m---> 15\u001b[0m     pp \u001b[39m=\u001b[39m LHS_X(p0,Fk,L,IND,N1,N2,N3,tau)\n\u001b[1;32m     16\u001b[0m     pp \u001b[39m=\u001b[39m pp\u001b[39m.\u001b[39mflatten()\n\u001b[1;32m     17\u001b[0m     p0 \u001b[39m=\u001b[39m p0\u001b[39m.\u001b[39mflatten()\n",
      "File \u001b[0;32m~/Documents/masters_coursework/3D_Prof_Chandrajit/HSI-MSI-Image-Fusion/HSI-MSI_Fusion2/notebooks/../hip/fusion/LHS_X.py:34\u001b[0m, in \u001b[0;36mLHS_X\u001b[0;34m(X0, Fk, L, IND, N1, N2, N3, tau)\u001b[0m\n\u001b[1;32m     29\u001b[0m     X[:,band] \u001b[39m=\u001b[39m x[:]\n\u001b[1;32m     33\u001b[0m X \u001b[39m=\u001b[39m X \u001b[39m+\u001b[39m L \u001b[39m@\u001b[39m X0\n\u001b[0;32m---> 34\u001b[0m X \u001b[39m=\u001b[39m X\u001b[39m+\u001b[39;49mtau\u001b[39m*\u001b[39;49mX0\n\u001b[1;32m     36\u001b[0m \u001b[39m# print(\"LHS_X output\")\u001b[39;00m\n\u001b[1;32m     37\u001b[0m \u001b[39m# plt.imshow(X.reshape(N1,N2,N3))\u001b[39;00m\n\u001b[1;32m     38\u001b[0m \u001b[39m# plt.show()\u001b[39;00m\n\u001b[1;32m     39\u001b[0m \u001b[39mreturn\u001b[39;00m X\n",
      "\u001b[0;31mKeyboardInterrupt\u001b[0m: "
     ]
    }
   ],
   "source": [
    "denoised_hsi,SNR_dB = denoising(hsi)\n",
    "SRI_fused,K_est = BGLRF_main(denoised_hsi,msi,10,10,6)"
   ]
  },
  {
   "cell_type": "code",
   "execution_count": 7,
   "metadata": {},
   "outputs": [
    {
     "name": "stdout",
     "output_type": "stream",
     "text": [
      "(144, 144, 200)\n",
      "(144, 144, 200)\n",
      "(144,)\n"
     ]
    },
    {
     "ename": "AxisError",
     "evalue": "axis 2 is out of bounds for array of dimension 1",
     "output_type": "error",
     "traceback": [
      "\u001b[0;31m---------------------------------------------------------------------------\u001b[0m",
      "\u001b[0;31mAxisError\u001b[0m                                 Traceback (most recent call last)",
      "\u001b[1;32m/Users/pronomabanerjee/Dropbox/My Mac (Pronoma’s MacBook Air)/Desktop/UT Austin/HSI-MSI-Image-Fusion/HSI-MSI_Fusion2/Python_Fusion_Demo.ipynb Cell 4\u001b[0m in \u001b[0;36m<cell line: 2>\u001b[0;34m()\u001b[0m\n\u001b[1;32m      <a href='vscode-notebook-cell:/Users/pronomabanerjee/Dropbox/My%20Mac%20%28Pronoma%E2%80%99s%20MacBook%20Air%29/Desktop/UT%20Austin/HSI-MSI-Image-Fusion/HSI-MSI_Fusion2/Python_Fusion_Demo.ipynb#ch0000003?line=0'>1</a>\u001b[0m \u001b[39m# evaluate the fused result\u001b[39;00m\n\u001b[0;32m----> <a href='vscode-notebook-cell:/Users/pronomabanerjee/Dropbox/My%20Mac%20%28Pronoma%E2%80%99s%20MacBook%20Air%29/Desktop/UT%20Austin/HSI-MSI-Image-Fusion/HSI-MSI_Fusion2/Python_Fusion_Demo.ipynb#ch0000003?line=1'>2</a>\u001b[0m psnr,rmse,ergas,sam,uiqi,ssim,DD,CCS \u001b[39m=\u001b[39m quality_assessment(SRI,SRI_fused,\u001b[39m0\u001b[39;49m,\u001b[39m1\u001b[39;49m\u001b[39m/\u001b[39;49m\u001b[39m4\u001b[39;49m)\n\u001b[1;32m      <a href='vscode-notebook-cell:/Users/pronomabanerjee/Dropbox/My%20Mac%20%28Pronoma%E2%80%99s%20MacBook%20Air%29/Desktop/UT%20Austin/HSI-MSI-Image-Fusion/HSI-MSI_Fusion2/Python_Fusion_Demo.ipynb#ch0000003?line=3'>4</a>\u001b[0m \u001b[39mprint\u001b[39m(\u001b[39m\"\u001b[39m\u001b[39mpsnr\u001b[39m\u001b[39m\"\u001b[39m, psnr)\n\u001b[1;32m      <a href='vscode-notebook-cell:/Users/pronomabanerjee/Dropbox/My%20Mac%20%28Pronoma%E2%80%99s%20MacBook%20Air%29/Desktop/UT%20Austin/HSI-MSI-Image-Fusion/HSI-MSI_Fusion2/Python_Fusion_Demo.ipynb#ch0000003?line=4'>5</a>\u001b[0m \u001b[39mprint\u001b[39m(\u001b[39m\"\u001b[39m\u001b[39mrmse\u001b[39m\u001b[39m\"\u001b[39m, psnr)\n",
      "File \u001b[0;32m~/Dropbox/My Mac (Pronoma’s MacBook Air)/Desktop/UT Austin/HSI-MSI-Image-Fusion/HSI-MSI_Fusion2/./codes/hyperspectral_image_processing/quality_metrics/quality_assessment.py:70\u001b[0m, in \u001b[0;36mquality_assessment\u001b[0;34m(ground_truth, estimated, ignore_edges, ratio_ergas)\u001b[0m\n\u001b[1;32m     68\u001b[0m \u001b[39mprint\u001b[39m(aux\u001b[39m.\u001b[39mshape)\n\u001b[1;32m     69\u001b[0m rmse_per_band \u001b[39m=\u001b[39m np\u001b[39m.\u001b[39msqrt(aux)\n\u001b[0;32m---> 70\u001b[0m rmse \u001b[39m=\u001b[39m np\u001b[39m.\u001b[39msqrt(np\u001b[39m.\u001b[39;49msum(aux, \u001b[39m2\u001b[39;49m)\u001b[39m/\u001b[39mn_bands)\n\u001b[1;32m     72\u001b[0m \u001b[39m# ERGAS\u001b[39;00m\n\u001b[1;32m     73\u001b[0m mean_y \u001b[39m=\u001b[39m np\u001b[39m.\u001b[39msum(np\u001b[39m.\u001b[39msum(y, \u001b[39m0\u001b[39m), \u001b[39m1\u001b[39m)\u001b[39m/\u001b[39mn_samples\n",
      "File \u001b[0;32m<__array_function__ internals>:180\u001b[0m, in \u001b[0;36msum\u001b[0;34m(*args, **kwargs)\u001b[0m\n",
      "File \u001b[0;32m~/opt/anaconda3/lib/python3.8/site-packages/numpy/core/fromnumeric.py:2296\u001b[0m, in \u001b[0;36msum\u001b[0;34m(a, axis, dtype, out, keepdims, initial, where)\u001b[0m\n\u001b[1;32m   2293\u001b[0m         \u001b[39mreturn\u001b[39;00m out\n\u001b[1;32m   2294\u001b[0m     \u001b[39mreturn\u001b[39;00m res\n\u001b[0;32m-> 2296\u001b[0m \u001b[39mreturn\u001b[39;00m _wrapreduction(a, np\u001b[39m.\u001b[39;49madd, \u001b[39m'\u001b[39;49m\u001b[39msum\u001b[39;49m\u001b[39m'\u001b[39;49m, axis, dtype, out, keepdims\u001b[39m=\u001b[39;49mkeepdims,\n\u001b[1;32m   2297\u001b[0m                       initial\u001b[39m=\u001b[39;49minitial, where\u001b[39m=\u001b[39;49mwhere)\n",
      "File \u001b[0;32m~/opt/anaconda3/lib/python3.8/site-packages/numpy/core/fromnumeric.py:86\u001b[0m, in \u001b[0;36m_wrapreduction\u001b[0;34m(obj, ufunc, method, axis, dtype, out, **kwargs)\u001b[0m\n\u001b[1;32m     83\u001b[0m         \u001b[39melse\u001b[39;00m:\n\u001b[1;32m     84\u001b[0m             \u001b[39mreturn\u001b[39;00m reduction(axis\u001b[39m=\u001b[39maxis, out\u001b[39m=\u001b[39mout, \u001b[39m*\u001b[39m\u001b[39m*\u001b[39mpasskwargs)\n\u001b[0;32m---> 86\u001b[0m \u001b[39mreturn\u001b[39;00m ufunc\u001b[39m.\u001b[39;49mreduce(obj, axis, dtype, out, \u001b[39m*\u001b[39;49m\u001b[39m*\u001b[39;49mpasskwargs)\n",
      "\u001b[0;31mAxisError\u001b[0m: axis 2 is out of bounds for array of dimension 1"
     ]
    }
   ],
   "source": [
    "# evaluate the fused result\n",
    "psnr,rmse,ergas,sam,uiqi,ssim,DD,CCS = quality_assessment(SRI,SRI_fused,0,1/4)\n",
    "\n",
    "print(\"psnr\", psnr)\n",
    "print(\"rmse\", psnr)\n",
    "print(\"ergas\", psnr)\n",
    "print(\"sam\", psnr)\n",
    "print(\"uiqi\", psnr)"
   ]
  },
  {
   "cell_type": "code",
   "execution_count": null,
   "metadata": {},
   "outputs": [],
   "source": [
    "# print(SRI_fused)\n",
    "# plt.imshow(SRI_fused[:,:,10].T)\n",
    "# plt.show()"
   ]
  }
 ],
 "metadata": {
  "kernelspec": {
   "display_name": "Python 3.8.13 ('hsi')",
   "language": "python",
   "name": "python3"
  },
  "language_info": {
   "codemirror_mode": {
    "name": "ipython",
    "version": 3
   },
   "file_extension": ".py",
   "mimetype": "text/x-python",
   "name": "python",
   "nbconvert_exporter": "python",
   "pygments_lexer": "ipython3",
   "version": "3.8.13"
  },
  "orig_nbformat": 4,
  "vscode": {
   "interpreter": {
    "hash": "0cb599239d7ae66ac2dbba2ac68b75d61a4406bb6f4f6502f834dfd36bf3ab25"
   }
  }
 },
 "nbformat": 4,
 "nbformat_minor": 2
}
